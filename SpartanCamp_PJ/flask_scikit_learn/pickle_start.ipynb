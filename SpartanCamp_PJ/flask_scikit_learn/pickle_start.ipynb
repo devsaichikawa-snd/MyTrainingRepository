{
 "cells": [
  {
   "cell_type": "code",
   "execution_count": 5,
   "id": "c7df942a",
   "metadata": {},
   "outputs": [
    {
     "name": "stderr",
     "output_type": "stream",
     "text": [
      "C:\\Users\\daiko\\scamp\\day05\\flask_scikit_learn\\.venv\\lib\\site-packages\\sklearn\\base.py:450: UserWarning: X does not have valid feature names, but LinearRegression was fitted with feature names\n",
      "  warnings.warn(\n"
     ]
    },
    {
     "data": {
      "text/plain": [
       "array([65984759.65579959])"
      ]
     },
     "execution_count": 5,
     "metadata": {},
     "output_type": "execute_result"
    }
   ],
   "source": [
    "import pickle\n",
    "import numpy as np\n",
    "with open(\"predict_population.pickle\", mode=\"rb\") as fp:\n",
    "    model = pickle.load(fp)\n",
    "model.predict(np.array([[130000000]]))"
   ]
  },
  {
   "cell_type": "code",
   "execution_count": null,
   "id": "5964596f",
   "metadata": {},
   "outputs": [],
   "source": []
  }
 ],
 "metadata": {
  "kernelspec": {
   "display_name": "Python 3.10.8 64-bit",
   "language": "python",
   "name": "python3"
  },
  "language_info": {
   "codemirror_mode": {
    "name": "ipython",
    "version": 3
   },
   "file_extension": ".py",
   "mimetype": "text/x-python",
   "name": "python",
   "nbconvert_exporter": "python",
   "pygments_lexer": "ipython3",
   "version": "3.10.8"
  },
  "vscode": {
   "interpreter": {
    "hash": "643434862c904661775876c43c9c269139965b555f3349fa9190e68620aa0b32"
   }
  }
 },
 "nbformat": 4,
 "nbformat_minor": 5
}
